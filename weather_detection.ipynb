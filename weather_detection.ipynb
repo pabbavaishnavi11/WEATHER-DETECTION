{
  "nbformat": 4,
  "nbformat_minor": 0,
  "metadata": {
    "colab": {
      "provenance": [],
      "authorship_tag": "ABX9TyOGjYIAHTKdW6+lSo7OBp3J",
      "include_colab_link": true
    },
    "kernelspec": {
      "name": "python3",
      "display_name": "Python 3"
    },
    "language_info": {
      "name": "python"
    }
  },
  "cells": [
    {
      "cell_type": "markdown",
      "metadata": {
        "id": "view-in-github",
        "colab_type": "text"
      },
      "source": [
        "<a href=\"https://colab.research.google.com/github/pabbavaishnavi11/WEATHER-DETECTION/blob/main/weather_detection.ipynb\" target=\"_parent\"><img src=\"https://colab.research.google.com/assets/colab-badge.svg\" alt=\"Open In Colab\"/></a>"
      ]
    },
    {
      "cell_type": "code",
      "execution_count": 3,
      "metadata": {
        "id": "alHuZ5GyT7l3"
      },
      "outputs": [],
      "source": [
        "# importing the library\n",
        "import requests\n",
        "\n"
      ]
    },
    {
      "cell_type": "code",
      "source": [
        "Base_url=\"https://api.openweathermap.org/data/2.5/weather?\"\n",
        "Api_key=open('weather_api.txt','r').read()\n",
        "city=\"Secunderabad\"\n",
        "url=Base_url +\"appid=\"+Api_key +\"&q=\" +city\n",
        "response = requests.get(url).json()\n",
        "print(response)\n"
      ],
      "metadata": {
        "colab": {
          "base_uri": "https://localhost:8080/"
        },
        "id": "1PynwRgOT_xn",
        "outputId": "69f9dcb8-51ef-489e-f7c1-4564edad3d9d"
      },
      "execution_count": 5,
      "outputs": [
        {
          "output_type": "stream",
          "name": "stdout",
          "text": [
            "{'coord': {'lon': 78.5426, 'lat': 17.5043}, 'weather': [{'id': 804, 'main': 'Clouds', 'description': 'overcast clouds', 'icon': '04n'}], 'base': 'stations', 'main': {'temp': 302.94, 'feels_like': 301.86, 'temp_min': 302.94, 'temp_max': 304.44, 'pressure': 1011, 'humidity': 32}, 'visibility': 6000, 'wind': {'speed': 1.03, 'deg': 0}, 'clouds': {'all': 87}, 'dt': 1679924829, 'sys': {'type': 1, 'id': 9214, 'country': 'IN', 'sunrise': 1679877887, 'sunset': 1679921868}, 'timezone': 19800, 'id': 1256922, 'name': 'Secunderabad', 'cod': 200}\n"
          ]
        }
      ]
    },
    {
      "cell_type": "code",
      "source": [
        "def k_c(kelvin):\n",
        "  celsius=kelvin-273.15\n",
        "  return celsius\n",
        "temp_k=response['main']['temp']\n",
        "temp_c=k_c(temp_k)\n"
      ],
      "metadata": {
        "id": "D7miXUgvT_uE"
      },
      "execution_count": 6,
      "outputs": []
    },
    {
      "cell_type": "code",
      "source": [
        "humidity=response['main']['humidity']\n",
        "description=response['weather'][0]['description']\n",
        "wind_speed=response['wind']['speed']\n",
        "clouds=response['clouds']['all']\n",
        "#datetime.utcfromtimestamp"
      ],
      "metadata": {
        "id": "5R8s4SLnT_sG"
      },
      "execution_count": 7,
      "outputs": []
    },
    {
      "cell_type": "code",
      "source": [
        "print(f\"Temperature in {city}:{temp_c:.2f}C\")\n",
        "print(f\"Humidity in {city}:{humidity}\")\n",
        "print(f\"wind_speed in {city}:{wind_speed}\")\n",
        "print(f\"Weather in {city}:{description}\")\n",
        "print(f\"Clouds in {city}:{clouds}\")\n",
        "\n",
        "\n"
      ],
      "metadata": {
        "colab": {
          "base_uri": "https://localhost:8080/"
        },
        "id": "p2ZI98I5T_qD",
        "outputId": "bc1496b3-349a-4fd9-9440-71ff9272c63b"
      },
      "execution_count": 8,
      "outputs": [
        {
          "output_type": "stream",
          "name": "stdout",
          "text": [
            "Temperature in Secunderabad:29.79C\n",
            "Humidity in Secunderabad:32\n",
            "wind_speed in Secunderabad:1.03\n",
            "Weather in Secunderabad:overcast clouds\n",
            "Clouds in Secunderabad:87\n"
          ]
        }
      ]
    }
  ]
}